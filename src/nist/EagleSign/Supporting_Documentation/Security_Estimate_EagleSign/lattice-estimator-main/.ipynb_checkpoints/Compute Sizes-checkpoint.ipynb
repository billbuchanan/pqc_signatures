{
 "cells": [
  {
   "cell_type": "code",
   "execution_count": 20,
   "metadata": {},
   "outputs": [],
   "source": [
    "def getLevel(beta):\n",
    "    return (int(beta*0.292), int(beta*0.265), int(beta*0.2075))"
   ]
  },
  {
   "cell_type": "code",
   "execution_count": 21,
   "metadata": {},
   "outputs": [],
   "source": [
    "n_q_k_l_ey1_ey2_eg_ed_t_tau_betas = {\n",
    "    2: (512, 12289, 1, 1, 1, 64, 3, 2, 100, 18, 352, 355, 331),\n",
    "    3: (1024, 12289, 1, 1, 1, 64, 2, 2, 170, 38, 696, 695, 707),\n",
    "    \"3+\": (512, 12289, 2, 2, 1, 32, 2, 1, 90, 18, 741, 745, 748),\n",
    "    5: (1024, 12289, 1, 2, 1, 64, 1, 1, 100, 18, 1671, 866, 820),\n",
    "}"
   ]
  },
  {
   "cell_type": "code",
   "execution_count": 22,
   "metadata": {},
   "outputs": [],
   "source": [
    "objects = [\"Longterm Secret key recovery = \", \"Ephemeral secret key recovery = \", \"Strong Unforgeable = \"]"
   ]
  },
  {
   "cell_type": "code",
   "execution_count": 23,
   "metadata": {},
   "outputs": [
    {
     "name": "stdout",
     "output_type": "stream",
     "text": [
      "Level\t 2\n",
      "(512, 12289, 1, 1, 1, 64, 3, 2, 100, 18, 352, 355, 331)\n",
      "Longterm Secret key recovery =  (102, 93, 73)\n",
      "Ephemeral secret key recovery =  (103, 94, 73)\n",
      "Strong Unforgeable =  (96, 87, 68)\n",
      "\n",
      "Level\t 3\n",
      "(1024, 12289, 1, 1, 1, 64, 2, 2, 170, 38, 696, 695, 707)\n",
      "Longterm Secret key recovery =  (203, 184, 144)\n",
      "Ephemeral secret key recovery =  (202, 184, 144)\n",
      "Strong Unforgeable =  (206, 187, 146)\n",
      "\n",
      "Level\t 3+\n",
      "(512, 12289, 2, 2, 1, 32, 2, 1, 90, 18, 741, 745, 748)\n",
      "Longterm Secret key recovery =  (216, 196, 153)\n",
      "Ephemeral secret key recovery =  (217, 197, 154)\n",
      "Strong Unforgeable =  (218, 198, 155)\n",
      "\n",
      "Level\t 5\n",
      "(1024, 12289, 1, 2, 1, 64, 1, 1, 100, 18, 1671, 866, 820)\n",
      "Longterm Secret key recovery =  (487, 442, 346)\n",
      "Ephemeral secret key recovery =  (252, 229, 179)\n",
      "Strong Unforgeable =  (239, 217, 170)\n",
      "\n"
     ]
    }
   ],
   "source": [
    "for idx in n_q_k_l_ey1_ey2_eg_ed_t_tau_betas.keys():\n",
    "    elt = n_q_k_l_ey1_ey2_eg_ed_t_tau_betas[idx]\n",
    "    print(\"Level\\t\", idx)\n",
    "    print(elt)\n",
    "    for id in range(3):\n",
    "        el = elt[10:][id]\n",
    "        print(objects[id],getLevel(el))\n",
    "    print()"
   ]
  },
  {
   "cell_type": "code",
   "execution_count": 24,
   "metadata": {},
   "outputs": [
    {
     "name": "stdout",
     "output_type": "stream",
     "text": [
      "Eagle\t|\tdelta\t|\tlog_delta|\tdelta_p\t|\tlog_delta_p|\tSig\t|\tpk\n",
      "-----------------------------------------------------------------------------------------------------------\n",
      "2\t|\t354\t|\t10\t |\t418\t|\t10\t   |\t1312\t|\t928\n",
      "-----------------------------------------------------------------------------------------------------------\n",
      "3\t|\t416\t|\t10\t |\t480\t|\t10\t   |\t2592\t|\t1824\n",
      "-----------------------------------------------------------------------------------------------------------\n",
      "3+\t|\t432\t|\t10\t |\t464\t|\t10\t   |\t2592\t|\t3616\n",
      "-----------------------------------------------------------------------------------------------------------\n",
      "5\t|\t236\t|\t9\t |\t300\t|\t10\t   |\t3616\t|\t3616\n",
      "-----------------------------------------------------------------------------------------------------------\n"
     ]
    }
   ],
   "source": [
    "print(\"Eagle\\t|\\tdelta\\t|\\tlog_delta|\\tdelta_p\\t|\\tlog_delta_p|\\tSig\\t|\\tpk\")\n",
    "print(\"-----------------------------------------------------------------------------------------------------------\")\n",
    "for idx in n_q_k_l_ey1_ey2_eg_ed_t_tau_betas.keys():\n",
    "    elt = n_q_k_l_ey1_ey2_eg_ed_t_tau_betas[idx]\n",
    "    delta = elt[3]*elt[6]*(elt[8]+elt[9])\n",
    "    delta_prime = delta + elt[5]\n",
    "    logdelta = int(2*delta+1).bit_length()\n",
    "    logdelta_prime = int(2*delta_prime+1).bit_length()\n",
    "    sigma = 32 + (elt[3]*logdelta + elt[2]*logdelta_prime)*elt[0]/8\n",
    "    pk = 32 + (elt[2]*elt[3]*int(elt[1]).bit_length())* elt[0]/8\n",
    "    print(\"{}\\t|\\t{}\\t|\\t{}\\t |\\t{}\\t|\\t{}\\t   |\\t{}\\t|\\t{}\".format(idx, delta, logdelta, delta_prime, logdelta_prime, int(sigma), int(pk)))\n",
    "    print(\"-----------------------------------------------------------------------------------------------------------\")"
   ]
  },
  {
   "cell_type": "code",
   "execution_count": null,
   "metadata": {},
   "outputs": [],
   "source": []
  }
 ],
 "metadata": {
  "kernelspec": {
   "display_name": "Python 3",
   "language": "python",
   "name": "python3"
  },
  "language_info": {
   "codemirror_mode": {
    "name": "ipython",
    "version": 3
   },
   "file_extension": ".py",
   "mimetype": "text/x-python",
   "name": "python",
   "nbconvert_exporter": "python",
   "pygments_lexer": "ipython3",
   "version": "3.6.9"
  }
 },
 "nbformat": 4,
 "nbformat_minor": 2
}
