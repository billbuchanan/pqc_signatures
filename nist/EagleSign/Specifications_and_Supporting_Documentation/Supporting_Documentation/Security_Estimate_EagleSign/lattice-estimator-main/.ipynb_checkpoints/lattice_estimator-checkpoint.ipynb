{
 "cells": [
  {
   "cell_type": "code",
   "execution_count": 12,
   "id": "4bc37075",
   "metadata": {},
   "outputs": [],
   "source": [
    "from estimator import *\n",
    "from estimator.lwe_parameters import *\n",
    "from estimator.nd import *"
   ]
  },
  {
   "cell_type": "code",
   "execution_count": 19,
   "id": "a790dc34",
   "metadata": {},
   "outputs": [],
   "source": [
    "k=1\n",
    "l=1\n",
    "t=10\n",
    "d=120\n",
    "etay1=2\n",
    "sigma_y1=sqrt((d+t*etay1**2)/947)\n",
    "etay2=5\n",
    "sigma_y2=sqrt(((1+2*etay2)**2-1)/12)\n",
    "eagle = LWEParameters(n=947*l,\n",
    "    q=3917,\n",
    "    Xs=NoiseDistribution.DiscreteGaussian(sigma_y1),\n",
    "    Xe=NoiseDistribution.DiscreteGaussian(sigma_y2),\n",
    "    m=k*947,\n",
    "    tag=\"Eagle\")"
   ]
  },
  {
   "cell_type": "code",
   "execution_count": 20,
   "id": "addc8b8c",
   "metadata": {},
   "outputs": [
    {
     "data": {
      "text/plain": [
       "LWEParameters(n=947, q=3917, Xs=D(σ=0.41), Xe=D(σ=3.16), m=947, tag='Eagle')"
      ]
     },
     "execution_count": 20,
     "metadata": {},
     "output_type": "execute_result"
    }
   ],
   "source": [
    "eagle"
   ]
  },
  {
   "cell_type": "code",
   "execution_count": 21,
   "id": "43f60552",
   "metadata": {},
   "outputs": [
    {
     "name": "stdout",
     "output_type": "stream",
     "text": [
      "Algorithm arora_gb+guessing on LWEParameters(n=947, q=3917, Xs=D(σ=0.41), Xe=D(σ=3.16), m=947, tag='Eagle') failed with \n",
      "Algorithm functools.partial(<function dual_hybrid at 0x6ffee9cd0200>, red_cost_model=<estimator.reduction.MATZOV object at 0x6ffee9de5450>, mitm_optimization=True) on LWEParameters(n=947, q=3917, Xs=D(σ=0.41), Xe=D(σ=3.16), m=947, tag='Eagle') failed with β = 71 > d = 55\n",
      "bkw                  :: rop: ≈2^224.7, m: ≈2^211.0, mem: ≈2^206.7, b: 17, t1: 0, t2: 14, ℓ: 16, #cod: 756, #top: 0, #test: 191, tag: coded-bkw\n",
      "usvp                 :: rop: ≈2^248.4, red: ≈2^248.4, δ: 1.002462, β: 780, d: 1518, tag: usvp\n",
      "bdd                  :: rop: ≈2^247.7, red: ≈2^247.0, svp: ≈2^246.4, β: 776, η: 807, d: 1365, tag: bdd\n",
      "bdd_hybrid           :: rop: ≈2^131.6, red: ≈2^131.1, svp: ≈2^129.8, β: 162, η: 185, ζ: 689, |S|: 1, d: 363, prob: ≈2^-54.1, ↻: ≈2^56.3, tag: hybrid\n",
      "bdd_mitm_hybrid      :: rop: ≈2^170.0, red: ≈2^170.0, svp: ≈2^112.6, β: 161, η: 2, ζ: 802, |S|: 1, d: 248, prob: ≈2^-94.5, ↻: ≈2^96.7, tag: hybrid\n",
      "dual                 :: rop: ≈2^224.5, mem: ≈2^140.0, m: 427, β: 691, d: 1374, ↻: 1, tag: dual\n",
      "dual_hybrid          :: rop: ≈2^108.1, mem: ≈2^66.4, m: 188, β: 131, d: 392, ↻: ≈2^39.6, ζ: 743, h1: 5, tag: dual_hybrid\n"
     ]
    }
   ],
   "source": [
    "r=LWE.estimate(eagle)"
   ]
  },
  {
   "cell_type": "code",
   "execution_count": 25,
   "id": "455c589f",
   "metadata": {},
   "outputs": [
    {
     "name": "stdout",
     "output_type": "stream",
     "text": [
      "Algorithm functools.partial(<function dual_hybrid at 0x6ffee9cd0200>, red_cost_model=<estimator.reduction.MATZOV object at 0x6ffee9de5450>, mitm_optimization=True) on LWEParameters(n=947, q=3917, Xs=D(σ=0.42), Xe=D(σ=9.52), m=947, tag='Eagle') failed with β = 79 > d = 46\n",
      "bkw                  :: rop: ≈2^241.4, m: ≈2^229.1, mem: ≈2^230.1, b: 19, t1: 0, t2: 10, ℓ: 18, #cod: 728, #top: 0, #test: 219, tag: coded-bkw\n",
      "usvp                 :: rop: ≈2^280.2, red: ≈2^280.2, δ: 1.002222, β: 895, d: 1466, tag: usvp\n",
      "bdd                  :: rop: ≈2^288.1, red: ≈2^288.1, svp: ≈2^282.3, β: 926, η: 935, d: 1243, tag: bdd\n",
      "bdd_hybrid           :: rop: ≈2^204.2, red: ≈2^202.4, svp: ≈2^203.6, β: 400, η: 437, ζ: 472, |S|: 1, d: 934, prob: ≈2^-58.2, ↻: ≈2^60.4, tag: hybrid\n",
      "bdd_mitm_hybrid      :: rop: ≈2^265.2, red: ≈2^265.2, svp: ≈2^198.9, β: 194, η: 2, ζ: 774, |S|: 1, d: 336, prob: ≈2^-179.9, ↻: ≈2^182.1, tag: hybrid\n",
      "dual                 :: rop: ≈2^264.9, mem: ≈2^168.0, m: 419, β: 837, d: 1366, ↻: 1, tag: dual\n",
      "dual_hybrid          :: rop: ≈2^164.8, mem: ≈2^118.1, m: 268, β: 318, d: 597, ↻: ≈2^44.6, ζ: 618, h1: 10, tag: dual_hybrid\n"
     ]
    }
   ],
   "source": [
    "k=1\n",
    "l=1\n",
    "t=10\n",
    "d=100\n",
    "etay1=2\n",
    "sigma_y1=sqrt((d+t*etay1**2)/947)\n",
    "etay2=32\n",
    "sigma_y2=sqrt(((1+2*etay2)**2-1)/12)\n",
    "eagle = LWEParameters(n=947*l,\n",
    "    q=3917,\n",
    "    Xs=NoiseDistribution.DiscreteGaussian(sigma_y1),\n",
    "    Xe=NoiseDistribution.DiscreteGaussian(sigma_y2),\n",
    "    m=k*947,\n",
    "    tag=\"Eagle\")\n",
    "r=LWE.estimate(eagle)"
   ]
  },
  {
   "cell_type": "raw",
   "id": "6e1d9b21",
   "metadata": {},
   "source": []
  },
  {
   "cell_type": "code",
   "execution_count": 4,
   "id": "0e44cf85",
   "metadata": {},
   "outputs": [],
   "source": [
    "from lwe_estimator import  *"
   ]
  },
  {
   "cell_type": "code",
   "execution_count": 5,
   "id": "da2fcafb",
   "metadata": {},
   "outputs": [
    {
     "name": "stderr",
     "output_type": "stream",
     "text": [
      "Warning: the LWE secret is assumed to have Hamming weight 379.\n"
     ]
    },
    {
     "name": "stdout",
     "output_type": "stream",
     "text": [
      "*********************** secret key  recovery 2/ ephemeral public key *********************\n",
      "************* Ephemeral  secret key recovery 2/ Security level 1 ***********\n"
     ]
    },
    {
     "name": "stderr",
     "output_type": "stream",
     "text": [
      "usvp: rop: ≈2^146.3,  red: ≈2^146.3,  δ_0: 1.003982,  β:  400,  d: 1064,  m:      494,  repeat:        1,  k:        0,  postprocess:        0\n",
      " dec: rop: ≈2^177.6,  m:      569,  red: ≈2^177.6,  δ_0: 1.003548,  β:  472,  d: 1138,  babai: ≈2^162.7,  babai_op: ≈2^177.8,  repeat:     1177,  ε: 0.003906\n",
      "dual: rop: ≈2^163.7,  m:      568,  red: ≈2^163.7,  δ_0: 1.003649,  β:  454,  repeat: ≈2^125.5,  d: 1120,  c:        1,  k:       17,  postprocess:        1\n",
      "Warning: the LWE secret is assumed to have Hamming weight 631.\n"
     ]
    },
    {
     "name": "stdout",
     "output_type": "stream",
     "text": [
      "************* Ephemeral  secret key recovery 2/ Security level 2 ***********\n"
     ]
    },
    {
     "name": "stderr",
     "output_type": "stream",
     "text": [
      "usvp: rop: ≈2^246.2,  red: ≈2^246.2,  δ_0: 1.002560,  β:  740,  d: 1737,  m:      789,  repeat:        1,  k:        0,  postprocess:        0\n",
      " dec: rop: ≈2^314.8,  m:      921,  red: ≈2^314.8,  δ_0: 1.002191,  β:  912,  d: 1868,  babai: ≈2^300.8,  babai_op: ≈2^315.9,  repeat:  ≈2^18.2,  ε: ≈2^-16.0\n",
      "dual: rop: ≈2^276.7,  m:      891,  red: ≈2^276.7,  δ_0: 1.002324,  β:  844,  repeat: ≈2^228.3,  d: 1824,  c: 1.000000,  k:       14,  postprocess:        8\n",
      "Warning: the LWE secret is assumed to have Hamming weight 1263.\n"
     ]
    },
    {
     "name": "stdout",
     "output_type": "stream",
     "text": [
      "************* Ephemeral  secret key recovery 2/ Security level 3 ***********\n"
     ]
    },
    {
     "name": "stderr",
     "output_type": "stream",
     "text": [
      "usvp: rop: ≈2^527.9,  red: ≈2^527.9,  δ_0: 1.001355,  β: 1702,  d: 2841,  m:      946,  repeat:        1,  k:        0,  postprocess:        0\n",
      " dec: rop: ≈2^773.8,  m:      947,  red: ≈2^773.8,  δ_0: 1.001060,  β: 2321,  d: 2841,  babai: ≈2^760.5,  babai_op: ≈2^775.6,  repeat:  ≈2^65.2,  ε: ≈2^-63.0\n",
      "dual: rop: ≈2^600.0,  m:      947,  red: ≈2^600.0,  δ_0: 1.001218,  β: 1949,  repeat: ≈2^514.7,  d: 2797,  c: 1.000000,  k:       44,  postprocess:        9\n",
      "Warning: the LWE secret is assumed to have Hamming weight 455.\n"
     ]
    },
    {
     "name": "stdout",
     "output_type": "stream",
     "text": [
      "*********************** secret key recovery 1/ public key *********************\n",
      "************* Longterm  secret key recovery 1/ Security level 1 ***********\n"
     ]
    },
    {
     "name": "stderr",
     "output_type": "stream",
     "text": [
      "usvp: rop: ≈2^121.6,  red: ≈2^121.6,  δ_0: 1.004677,  β:  316,  d:  960,  m:      390,  repeat:        1,  k:        0,  postprocess:        0\n",
      " dec: rop: ≈2^143.0,  m:      480,  red: ≈2^143.0,  δ_0: 1.004275,  β:  361,  d: 1049,  babai: ≈2^128.2,  babai_op: ≈2^143.3,  repeat:      293,  ε: 0.015625\n",
      "dual: rop: ≈2^149.1,  m:      987,  red: ≈2^149.1,  δ_0: 1.004412,  β:  345,  d:  987,  |v|:  ≈2^12.5,  repeat:  ≈2^19.0,  ε: 0.003906,  k:       51,  postprocess:        1\n",
      "Warning: the LWE secret is assumed to have Hamming weight 758.\n"
     ]
    },
    {
     "name": "stdout",
     "output_type": "stream",
     "text": [
      "************* Longterm  secret key recovery 1/ Security level 2 ***********\n"
     ]
    },
    {
     "name": "stderr",
     "output_type": "stream",
     "text": [
      "usvp: rop: ≈2^211.1,  red: ≈2^211.1,  δ_0: 1.002915,  β:  620,  d: 1638,  m:      690,  repeat:        1,  k:        0,  postprocess:        0\n",
      " dec: rop: ≈2^262.8,  m:      805,  red: ≈2^262.8,  δ_0: 1.002541,  β:  748,  d: 1752,  babai: ≈2^247.9,  babai_op: ≈2^263.0,  repeat:  ≈2^14.2,  ε: ≈2^-12.0\n",
      "dual: rop: ≈2^259.2,  m:     1604,  red: ≈2^259.2,  δ_0: 1.002771,  β:  665,  d: 1604,  |v|:  ≈2^12.8,  repeat:  ≈2^35.0,  ε: ≈2^-16.0,  k:       87,  postprocess:        1\n",
      "Warning: the LWE secret is assumed to have Hamming weight 1515.\n"
     ]
    },
    {
     "name": "stdout",
     "output_type": "stream",
     "text": [
      "************* Longterm  secret key recovery 1/ Security level 3 ***********\n"
     ]
    },
    {
     "name": "stderr",
     "output_type": "stream",
     "text": [
      "usvp: rop: ≈2^393.8,  red: ≈2^393.8,  δ_0: 1.001730,  β: 1243,  d: 2837,  m:      942,  repeat:        1,  k:        0,  postprocess:        0\n",
      " dec: rop: ≈2^522.7,  m:      947,  red: ≈2^522.7,  δ_0: 1.001436,  β: 1581,  d: 2841,  babai: ≈2^508.7,  babai_op: ≈2^523.8,  repeat:  ≈2^30.2,  ε: ≈2^-28.0\n",
      "dual: rop: ≈2^480.3,  m:  ≈2^11.4,  red: ≈2^480.2,  δ_0: 1.001636,  β: 1337,  d: 2664,  |v|:  ≈2^14.0,  repeat:  ≈2^59.0,  ε: ≈2^-28.0,  k:      177,  postprocess:        1\n"
     ]
    },
    {
     "name": "stdout",
     "output_type": "stream",
     "text": [
      "*********************** size and entropy *********************\n",
      "delta5: 66 delta6prime: 71 , (q5-1)/4: 982 , pk: 902 , sigma: 1186\n",
      "delta6: 166 delta4prime: 171 , (q6-1)/4: 979 , pk: 1469 , sigma: 2179\n",
      "delta7: 100 delta6prime: 105 , (q7-1)/4: 979 , pk: 2889 , sigma: 2889\n"
     ]
    }
   ],
   "source": [
    "def sigma(n, k,l, delta, deltaprime):\n",
    "    return 48+math.ceil(n*(l*math.ceil(math.log2(1+2*delta))+k*math.ceil(math.log2(1+2*deltaprime)))/8)\n",
    "def pk(n,k,l, q):\n",
    "    return 48+math.ceil(n*(k*l*math.ceil(math.log2(q)))/8)\n",
    "def size(q):\n",
    "    return math.ceil(math.log2(q))\n",
    "\n",
    "print(\"*********************** secret key  recovery 2/ ephemeral public key *********************\")\n",
    "print(\"************* Ephemeral  secret key recovery 2/ Security level 1 ***********\")\n",
    "n15 =569; q5 = 3929; k5=1; etag5=1;  stddev=sqrt(((1+2*etag5)**2-1)/12); alpha = alphaf(sigmaf(stddev), q5); m=569\n",
    "results = estimate_lwe(n15, alpha, q5, m=m,secret_distribution=(-etag5,etag5), reduction_cost_model=BKZ.sieve)\n",
    "print(\"************* Ephemeral  secret key recovery 2/ Security level 2 ***********\")\n",
    "n16 = 947; q6 = 3917; k6=1; etag6=1;  stddev=sqrt(((1+2*etag6)**2-1)/12); alpha = alphaf(sigmaf(stddev), q6); m=947\n",
    "results = estimate_lwe(n16, alpha, q6, m=m,secret_distribution=(-etag6,etag6), reduction_cost_model=BKZ.sieve)\n",
    "print(\"************* Ephemeral  secret key recovery 2/ Security level 3 ***********\")\n",
    "n17 = 947*2; q7 = 3917; k7=1; etag7=1;  stddev=sqrt(((1+2*etag7)**2-1)/12); alpha = alphaf(sigmaf(stddev), q7); m=947\n",
    "results = estimate_lwe(n17, alpha, q7, m=m,secret_distribution=(-etag7,etag7), reduction_cost_model=BKZ.sieve)\n",
    "\n",
    "print(\"*********************** secret key recovery 1/ public key *********************\")\n",
    "\n",
    "\n",
    "print(\"************* Longterm  secret key recovery 1/ Security level 1 ***********\")\n",
    "n5 = 569; q5 = 3929;  k5=1; etay25=5; etay15=2; t5=10; t55=30; stddev=sqrt((t55+t5*etay15**2)/569); alpha = alphaf(sigmaf(stddev), q5); m=569\n",
    "results = estimate_lwe(n5, alpha, q5, m=m,secret_distribution=(-etay15,etay15), reduction_cost_model=BKZ.sieve)\n",
    "print(\"************* Longterm  secret key recovery 1/ Security level 2 ***********\")\n",
    "n6 = 947; q6 = 3917;  k6=1;  etay26=5; etay16=2; t6=10; t66=120; stddev=sqrt((t66+t6*etay16**2)/947); alpha = alphaf(sigmaf(stddev), q6); m=947\n",
    "results = estimate_lwe(n6, alpha, q6, m=m,secret_distribution=(-etay16,etay16), reduction_cost_model=BKZ.sieve)\n",
    "print(\"************* Longterm  secret key recovery 1/ Security level 3 ***********\")\n",
    "n7 = 947*2; q7 =3917;  k7=1; etay27=5; etay17=2;  t7=10; t77=15; stddev=sqrt((t77+t7*etay17**2)/947); alpha = alphaf(sigmaf(stddev), q7); m=947\n",
    "results = estimate_lwe(n7, alpha, q7, m=m,secret_distribution=(-etay17,etay17), reduction_cost_model=BKZ.sieve)\n",
    "\n",
    "l5=1; tau5=16; delta5=l5*(t55+t5*etay15+tau5)*etag5;  delta5prime=etay25+delta5; pk5= pk(569,k5,l5, q5);\n",
    "sigma5=sigma(569,k5,l5, delta5, delta5prime); size5=size(q5);\n",
    "\n",
    "l6=1; tau6=26; delta6=l6*(t66+t6*etay16+tau6)*etag6;  delta6prime=etay26+delta6; pk6= pk(947,k6,l6, q6);\n",
    "sigma6=sigma(947,k6,l6, delta6, delta6prime); size6=size(q6);\n",
    "\n",
    "l7=2; tau7=15; delta7=l7*(t77+t7*etay17+tau7)*etag7;  delta7prime=etay27+delta7; pk7= pk(947,k7,l7, q7);\n",
    "sigma7=sigma(947,k7,l7, delta7, delta7prime); size7=size(q7);\n",
    "\n",
    "print(\"*********************** size and entropy *********************\")\n",
    "print(\"delta5:\", delta5,\"delta6prime:\", delta5prime, \", (q5-1)/4:\",  math.ceil((q5-1)/4),   \", pk:\", pk5, \", sigma:\", sigma5)\n",
    "\n",
    "print(\"delta6:\", delta6,\"delta4prime:\", delta6prime, \", (q6-1)/4:\",  math.ceil((q6-1)/4),  \", pk:\", pk6, \", sigma:\", sigma6)\n",
    "print(\"delta7:\", delta7,\"delta6prime:\", delta7prime, \", (q7-1)/4:\",  math.ceil((q7-1)/4),   \", pk:\", pk7, \", sigma:\", sigma7)\n",
    "\n"
   ]
  },
  {
   "cell_type": "code",
   "execution_count": null,
   "id": "a131eca8",
   "metadata": {},
   "outputs": [],
   "source": []
  }
 ],
 "metadata": {
  "kernelspec": {
   "display_name": "SageMath 9.3",
   "language": "sage",
   "name": "sagemath"
  },
  "language_info": {
   "codemirror_mode": {
    "name": "ipython",
    "version": 3
   },
   "file_extension": ".py",
   "mimetype": "text/x-python",
   "name": "python",
   "nbconvert_exporter": "python",
   "pygments_lexer": "ipython3",
   "version": "3.7.10"
  }
 },
 "nbformat": 4,
 "nbformat_minor": 5
}
